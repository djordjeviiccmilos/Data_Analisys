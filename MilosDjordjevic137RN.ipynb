{
  "nbformat": 4,
  "nbformat_minor": 0,
  "metadata": {
    "colab": {
      "provenance": [],
      "collapsed_sections": [
        "qP9mUWAxEwVn",
        "i7ZbhRGLFwQk",
        "aP-4Ql71IL8j",
        "NX73UyT2JjSa"
      ],
      "mount_file_id": "1l5RE0S2Q5JGszsUwM1IOgGHVm-80yTip",
      "authorship_tag": "ABX9TyOLWwbeSzx7OS+3H4d9TmVH",
      "include_colab_link": true
    },
    "kernelspec": {
      "name": "python3",
      "display_name": "Python 3"
    },
    "language_info": {
      "name": "python"
    }
  },
  "cells": [
    {
      "cell_type": "markdown",
      "metadata": {
        "id": "view-in-github",
        "colab_type": "text"
      },
      "source": [
        "<a href=\"https://colab.research.google.com/github/djordjeviiccmilos/Data_Analisys/blob/main/MilosDjordjevic137RN.ipynb\" target=\"_parent\"><img src=\"https://colab.research.google.com/assets/colab-badge.svg\" alt=\"Open In Colab\"/></a>"
      ]
    },
    {
      "cell_type": "markdown",
      "source": [
        "# **Statistička obrada podataka o saobraćajnim nezgodama u Njujorku**\n",
        "---"
      ],
      "metadata": {
        "id": "ZjpTRbFYB0N1"
      }
    },
    {
      "cell_type": "markdown",
      "source": [
        "# **Uvod**\n",
        "---\n",
        "\n",
        "Cilj ovog projekta je da se primenom statističkih metoda analizira skup podataka o saobraćajnim nezgodama u Njujorku.\n",
        "\n",
        "Skup podataka koji se koristi u ovom projektu sadrži fiktivne informacije o saobraćajnim nezgodama na teritoriji Njujorka, uključujući:\n",
        "\n",
        "\n",
        "*   Datum i vreme incidenta,\n",
        "*   Lokaciju (naselje, ulice, koordinate)\n",
        "*   Broj povredjenih i stradalih (ukupno i po kategorijama: pešaci, biciklisti, vozači)\n",
        "*   Doprinoseći faktor nezgode\n",
        "*   Tip vozila koji je učestvovao u nezgodi\n",
        "\n",
        "U ovom radu će se analizirati pitanja poput:\n",
        "\n",
        "\n",
        "*   Da li je broj povredjenih i stradalih zavisi od godišnjeg doba?\n",
        "*   Da li je prosečna težina nezgode veća vikendom nego radnim danima?\n",
        "*   Koji su najčešći uzroci nezgoda i da li su statistički povezani sa većim brojem povredjenih?\n",
        "*   Da li postoji statistički značajna razlika u broju i težini nezgode izmedju različitih delova grada (naselja)?\n",
        "*   Kakva je raspodela težine nezgode i može li se modelirati poznatom raspodelom?\n",
        "\n",
        "\n",
        "\n"
      ],
      "metadata": {
        "id": "qxDgi7AZCjOE"
      }
    },
    {
      "cell_type": "markdown",
      "source": [
        "# **Priprema i čišćenje podataka**\n",
        "---\n",
        "Podaci o saobraćajnim nezgodama su učitani iz CSV datoteke u Pandas DataFrame objekat."
      ],
      "metadata": {
        "id": "qP9mUWAxEwVn"
      }
    },
    {
      "cell_type": "code",
      "source": [
        "import pandas as pd\n",
        "\n",
        "dataset = pd.read_csv(\"/content/drive/MyDrive/Statistika/NYC_Collisions.csv\")\n",
        "\n",
        "dataset.info()\n",
        "dataset.head(5)"
      ],
      "metadata": {
        "colab": {
          "base_uri": "https://localhost:8080/",
          "height": 0
        },
        "id": "Pl3s1KEJFMVG",
        "outputId": "0c1b74c4-4335-4f87-8bda-d5a2ec5b5899"
      },
      "execution_count": 1,
      "outputs": [
        {
          "output_type": "stream",
          "name": "stdout",
          "text": [
            "<class 'pandas.core.frame.DataFrame'>\n",
            "RangeIndex: 238421 entries, 0 to 238420\n",
            "Data columns (total 18 columns):\n",
            " #   Column               Non-Null Count   Dtype  \n",
            "---  ------               --------------   -----  \n",
            " 0   Collision ID         238421 non-null  int64  \n",
            " 1   Date                 238421 non-null  object \n",
            " 2   Time                 238421 non-null  object \n",
            " 3   Borough              231224 non-null  object \n",
            " 4   Street Name          238058 non-null  object \n",
            " 5   Cross Street         111291 non-null  object \n",
            " 6   Latitude             216098 non-null  float64\n",
            " 7   Longitude            216098 non-null  float64\n",
            " 8   Contributing Factor  237134 non-null  object \n",
            " 9   Vehicle Type         238421 non-null  object \n",
            " 10  Persons Injured      238420 non-null  float64\n",
            " 11  Persons Killed       238421 non-null  int64  \n",
            " 12  Pedestrians Injured  238421 non-null  int64  \n",
            " 13  Pedestrians Killed   238421 non-null  int64  \n",
            " 14  Cyclists Injured     238421 non-null  int64  \n",
            " 15  Cyclists Killed      238421 non-null  int64  \n",
            " 16  Motorists Injured    238421 non-null  int64  \n",
            " 17  Motorists Killed     238421 non-null  int64  \n",
            "dtypes: float64(3), int64(8), object(7)\n",
            "memory usage: 32.7+ MB\n"
          ]
        },
        {
          "output_type": "execute_result",
          "data": {
            "text/plain": [
              "   Collision ID        Date      Time        Borough            Street Name  \\\n",
              "0       4491746  2021-01-01  20:00:00          Bronx    Bruckner Expressway   \n",
              "1       4441905  2021-01-01  05:28:00       Brooklyn       Lafayette Avenue   \n",
              "2       4382769  2021-01-01  06:00:00  Staten Island  West Shore Expressway   \n",
              "3       4380949  2021-01-01  19:30:00          Bronx        Sedgwick Avenue   \n",
              "4       4380940  2021-01-01  07:40:00       Brooklyn         Cortelyou Road   \n",
              "\n",
              "               Cross Street  Latitude  Longitude Contributing Factor  \\\n",
              "0                       NaN  40.83398 -73.826350   Pavement Slippery   \n",
              "1                       NaN  40.68730 -73.973656         Unspecified   \n",
              "2                       NaN       NaN        NaN         Fell Asleep   \n",
              "3  Vancortlandt Avenue West  40.88270 -73.892730                 NaN   \n",
              "4          Mc Donald Avenue  40.63791 -73.978640         Unspecified   \n",
              "\n",
              "        Vehicle Type  Persons Injured  Persons Killed  Pedestrians Injured  \\\n",
              "0  Passenger Vehicle              0.0               0                    0   \n",
              "1  Passenger Vehicle              0.0               0                    0   \n",
              "2  Passenger Vehicle              0.0               0                    0   \n",
              "3       Not Reported              0.0               0                    0   \n",
              "4  Passenger Vehicle              0.0               0                    0   \n",
              "\n",
              "   Pedestrians Killed  Cyclists Injured  Cyclists Killed  Motorists Injured  \\\n",
              "0                   0                 0                0                  0   \n",
              "1                   0                 0                0                  0   \n",
              "2                   0                 0                0                  0   \n",
              "3                   0                 0                0                  0   \n",
              "4                   0                 0                0                  0   \n",
              "\n",
              "   Motorists Killed  \n",
              "0                 0  \n",
              "1                 0  \n",
              "2                 0  \n",
              "3                 0  \n",
              "4                 0  "
            ],
            "text/html": [
              "\n",
              "  <div id=\"df-b9ab8692-af45-4744-bb13-b0cb4a968dda\" class=\"colab-df-container\">\n",
              "    <div>\n",
              "<style scoped>\n",
              "    .dataframe tbody tr th:only-of-type {\n",
              "        vertical-align: middle;\n",
              "    }\n",
              "\n",
              "    .dataframe tbody tr th {\n",
              "        vertical-align: top;\n",
              "    }\n",
              "\n",
              "    .dataframe thead th {\n",
              "        text-align: right;\n",
              "    }\n",
              "</style>\n",
              "<table border=\"1\" class=\"dataframe\">\n",
              "  <thead>\n",
              "    <tr style=\"text-align: right;\">\n",
              "      <th></th>\n",
              "      <th>Collision ID</th>\n",
              "      <th>Date</th>\n",
              "      <th>Time</th>\n",
              "      <th>Borough</th>\n",
              "      <th>Street Name</th>\n",
              "      <th>Cross Street</th>\n",
              "      <th>Latitude</th>\n",
              "      <th>Longitude</th>\n",
              "      <th>Contributing Factor</th>\n",
              "      <th>Vehicle Type</th>\n",
              "      <th>Persons Injured</th>\n",
              "      <th>Persons Killed</th>\n",
              "      <th>Pedestrians Injured</th>\n",
              "      <th>Pedestrians Killed</th>\n",
              "      <th>Cyclists Injured</th>\n",
              "      <th>Cyclists Killed</th>\n",
              "      <th>Motorists Injured</th>\n",
              "      <th>Motorists Killed</th>\n",
              "    </tr>\n",
              "  </thead>\n",
              "  <tbody>\n",
              "    <tr>\n",
              "      <th>0</th>\n",
              "      <td>4491746</td>\n",
              "      <td>2021-01-01</td>\n",
              "      <td>20:00:00</td>\n",
              "      <td>Bronx</td>\n",
              "      <td>Bruckner Expressway</td>\n",
              "      <td>NaN</td>\n",
              "      <td>40.83398</td>\n",
              "      <td>-73.826350</td>\n",
              "      <td>Pavement Slippery</td>\n",
              "      <td>Passenger Vehicle</td>\n",
              "      <td>0.0</td>\n",
              "      <td>0</td>\n",
              "      <td>0</td>\n",
              "      <td>0</td>\n",
              "      <td>0</td>\n",
              "      <td>0</td>\n",
              "      <td>0</td>\n",
              "      <td>0</td>\n",
              "    </tr>\n",
              "    <tr>\n",
              "      <th>1</th>\n",
              "      <td>4441905</td>\n",
              "      <td>2021-01-01</td>\n",
              "      <td>05:28:00</td>\n",
              "      <td>Brooklyn</td>\n",
              "      <td>Lafayette Avenue</td>\n",
              "      <td>NaN</td>\n",
              "      <td>40.68730</td>\n",
              "      <td>-73.973656</td>\n",
              "      <td>Unspecified</td>\n",
              "      <td>Passenger Vehicle</td>\n",
              "      <td>0.0</td>\n",
              "      <td>0</td>\n",
              "      <td>0</td>\n",
              "      <td>0</td>\n",
              "      <td>0</td>\n",
              "      <td>0</td>\n",
              "      <td>0</td>\n",
              "      <td>0</td>\n",
              "    </tr>\n",
              "    <tr>\n",
              "      <th>2</th>\n",
              "      <td>4382769</td>\n",
              "      <td>2021-01-01</td>\n",
              "      <td>06:00:00</td>\n",
              "      <td>Staten Island</td>\n",
              "      <td>West Shore Expressway</td>\n",
              "      <td>NaN</td>\n",
              "      <td>NaN</td>\n",
              "      <td>NaN</td>\n",
              "      <td>Fell Asleep</td>\n",
              "      <td>Passenger Vehicle</td>\n",
              "      <td>0.0</td>\n",
              "      <td>0</td>\n",
              "      <td>0</td>\n",
              "      <td>0</td>\n",
              "      <td>0</td>\n",
              "      <td>0</td>\n",
              "      <td>0</td>\n",
              "      <td>0</td>\n",
              "    </tr>\n",
              "    <tr>\n",
              "      <th>3</th>\n",
              "      <td>4380949</td>\n",
              "      <td>2021-01-01</td>\n",
              "      <td>19:30:00</td>\n",
              "      <td>Bronx</td>\n",
              "      <td>Sedgwick Avenue</td>\n",
              "      <td>Vancortlandt Avenue West</td>\n",
              "      <td>40.88270</td>\n",
              "      <td>-73.892730</td>\n",
              "      <td>NaN</td>\n",
              "      <td>Not Reported</td>\n",
              "      <td>0.0</td>\n",
              "      <td>0</td>\n",
              "      <td>0</td>\n",
              "      <td>0</td>\n",
              "      <td>0</td>\n",
              "      <td>0</td>\n",
              "      <td>0</td>\n",
              "      <td>0</td>\n",
              "    </tr>\n",
              "    <tr>\n",
              "      <th>4</th>\n",
              "      <td>4380940</td>\n",
              "      <td>2021-01-01</td>\n",
              "      <td>07:40:00</td>\n",
              "      <td>Brooklyn</td>\n",
              "      <td>Cortelyou Road</td>\n",
              "      <td>Mc Donald Avenue</td>\n",
              "      <td>40.63791</td>\n",
              "      <td>-73.978640</td>\n",
              "      <td>Unspecified</td>\n",
              "      <td>Passenger Vehicle</td>\n",
              "      <td>0.0</td>\n",
              "      <td>0</td>\n",
              "      <td>0</td>\n",
              "      <td>0</td>\n",
              "      <td>0</td>\n",
              "      <td>0</td>\n",
              "      <td>0</td>\n",
              "      <td>0</td>\n",
              "    </tr>\n",
              "  </tbody>\n",
              "</table>\n",
              "</div>\n",
              "    <div class=\"colab-df-buttons\">\n",
              "\n",
              "  <div class=\"colab-df-container\">\n",
              "    <button class=\"colab-df-convert\" onclick=\"convertToInteractive('df-b9ab8692-af45-4744-bb13-b0cb4a968dda')\"\n",
              "            title=\"Convert this dataframe to an interactive table.\"\n",
              "            style=\"display:none;\">\n",
              "\n",
              "  <svg xmlns=\"http://www.w3.org/2000/svg\" height=\"24px\" viewBox=\"0 -960 960 960\">\n",
              "    <path d=\"M120-120v-720h720v720H120Zm60-500h600v-160H180v160Zm220 220h160v-160H400v160Zm0 220h160v-160H400v160ZM180-400h160v-160H180v160Zm440 0h160v-160H620v160ZM180-180h160v-160H180v160Zm440 0h160v-160H620v160Z\"/>\n",
              "  </svg>\n",
              "    </button>\n",
              "\n",
              "  <style>\n",
              "    .colab-df-container {\n",
              "      display:flex;\n",
              "      gap: 12px;\n",
              "    }\n",
              "\n",
              "    .colab-df-convert {\n",
              "      background-color: #E8F0FE;\n",
              "      border: none;\n",
              "      border-radius: 50%;\n",
              "      cursor: pointer;\n",
              "      display: none;\n",
              "      fill: #1967D2;\n",
              "      height: 32px;\n",
              "      padding: 0 0 0 0;\n",
              "      width: 32px;\n",
              "    }\n",
              "\n",
              "    .colab-df-convert:hover {\n",
              "      background-color: #E2EBFA;\n",
              "      box-shadow: 0px 1px 2px rgba(60, 64, 67, 0.3), 0px 1px 3px 1px rgba(60, 64, 67, 0.15);\n",
              "      fill: #174EA6;\n",
              "    }\n",
              "\n",
              "    .colab-df-buttons div {\n",
              "      margin-bottom: 4px;\n",
              "    }\n",
              "\n",
              "    [theme=dark] .colab-df-convert {\n",
              "      background-color: #3B4455;\n",
              "      fill: #D2E3FC;\n",
              "    }\n",
              "\n",
              "    [theme=dark] .colab-df-convert:hover {\n",
              "      background-color: #434B5C;\n",
              "      box-shadow: 0px 1px 3px 1px rgba(0, 0, 0, 0.15);\n",
              "      filter: drop-shadow(0px 1px 2px rgba(0, 0, 0, 0.3));\n",
              "      fill: #FFFFFF;\n",
              "    }\n",
              "  </style>\n",
              "\n",
              "    <script>\n",
              "      const buttonEl =\n",
              "        document.querySelector('#df-b9ab8692-af45-4744-bb13-b0cb4a968dda button.colab-df-convert');\n",
              "      buttonEl.style.display =\n",
              "        google.colab.kernel.accessAllowed ? 'block' : 'none';\n",
              "\n",
              "      async function convertToInteractive(key) {\n",
              "        const element = document.querySelector('#df-b9ab8692-af45-4744-bb13-b0cb4a968dda');\n",
              "        const dataTable =\n",
              "          await google.colab.kernel.invokeFunction('convertToInteractive',\n",
              "                                                    [key], {});\n",
              "        if (!dataTable) return;\n",
              "\n",
              "        const docLinkHtml = 'Like what you see? Visit the ' +\n",
              "          '<a target=\"_blank\" href=https://colab.research.google.com/notebooks/data_table.ipynb>data table notebook</a>'\n",
              "          + ' to learn more about interactive tables.';\n",
              "        element.innerHTML = '';\n",
              "        dataTable['output_type'] = 'display_data';\n",
              "        await google.colab.output.renderOutput(dataTable, element);\n",
              "        const docLink = document.createElement('div');\n",
              "        docLink.innerHTML = docLinkHtml;\n",
              "        element.appendChild(docLink);\n",
              "      }\n",
              "    </script>\n",
              "  </div>\n",
              "\n",
              "\n",
              "    <div id=\"df-ff4c9489-4f51-41bd-8aaf-a84a428dfa4f\">\n",
              "      <button class=\"colab-df-quickchart\" onclick=\"quickchart('df-ff4c9489-4f51-41bd-8aaf-a84a428dfa4f')\"\n",
              "                title=\"Suggest charts\"\n",
              "                style=\"display:none;\">\n",
              "\n",
              "<svg xmlns=\"http://www.w3.org/2000/svg\" height=\"24px\"viewBox=\"0 0 24 24\"\n",
              "     width=\"24px\">\n",
              "    <g>\n",
              "        <path d=\"M19 3H5c-1.1 0-2 .9-2 2v14c0 1.1.9 2 2 2h14c1.1 0 2-.9 2-2V5c0-1.1-.9-2-2-2zM9 17H7v-7h2v7zm4 0h-2V7h2v10zm4 0h-2v-4h2v4z\"/>\n",
              "    </g>\n",
              "</svg>\n",
              "      </button>\n",
              "\n",
              "<style>\n",
              "  .colab-df-quickchart {\n",
              "      --bg-color: #E8F0FE;\n",
              "      --fill-color: #1967D2;\n",
              "      --hover-bg-color: #E2EBFA;\n",
              "      --hover-fill-color: #174EA6;\n",
              "      --disabled-fill-color: #AAA;\n",
              "      --disabled-bg-color: #DDD;\n",
              "  }\n",
              "\n",
              "  [theme=dark] .colab-df-quickchart {\n",
              "      --bg-color: #3B4455;\n",
              "      --fill-color: #D2E3FC;\n",
              "      --hover-bg-color: #434B5C;\n",
              "      --hover-fill-color: #FFFFFF;\n",
              "      --disabled-bg-color: #3B4455;\n",
              "      --disabled-fill-color: #666;\n",
              "  }\n",
              "\n",
              "  .colab-df-quickchart {\n",
              "    background-color: var(--bg-color);\n",
              "    border: none;\n",
              "    border-radius: 50%;\n",
              "    cursor: pointer;\n",
              "    display: none;\n",
              "    fill: var(--fill-color);\n",
              "    height: 32px;\n",
              "    padding: 0;\n",
              "    width: 32px;\n",
              "  }\n",
              "\n",
              "  .colab-df-quickchart:hover {\n",
              "    background-color: var(--hover-bg-color);\n",
              "    box-shadow: 0 1px 2px rgba(60, 64, 67, 0.3), 0 1px 3px 1px rgba(60, 64, 67, 0.15);\n",
              "    fill: var(--button-hover-fill-color);\n",
              "  }\n",
              "\n",
              "  .colab-df-quickchart-complete:disabled,\n",
              "  .colab-df-quickchart-complete:disabled:hover {\n",
              "    background-color: var(--disabled-bg-color);\n",
              "    fill: var(--disabled-fill-color);\n",
              "    box-shadow: none;\n",
              "  }\n",
              "\n",
              "  .colab-df-spinner {\n",
              "    border: 2px solid var(--fill-color);\n",
              "    border-color: transparent;\n",
              "    border-bottom-color: var(--fill-color);\n",
              "    animation:\n",
              "      spin 1s steps(1) infinite;\n",
              "  }\n",
              "\n",
              "  @keyframes spin {\n",
              "    0% {\n",
              "      border-color: transparent;\n",
              "      border-bottom-color: var(--fill-color);\n",
              "      border-left-color: var(--fill-color);\n",
              "    }\n",
              "    20% {\n",
              "      border-color: transparent;\n",
              "      border-left-color: var(--fill-color);\n",
              "      border-top-color: var(--fill-color);\n",
              "    }\n",
              "    30% {\n",
              "      border-color: transparent;\n",
              "      border-left-color: var(--fill-color);\n",
              "      border-top-color: var(--fill-color);\n",
              "      border-right-color: var(--fill-color);\n",
              "    }\n",
              "    40% {\n",
              "      border-color: transparent;\n",
              "      border-right-color: var(--fill-color);\n",
              "      border-top-color: var(--fill-color);\n",
              "    }\n",
              "    60% {\n",
              "      border-color: transparent;\n",
              "      border-right-color: var(--fill-color);\n",
              "    }\n",
              "    80% {\n",
              "      border-color: transparent;\n",
              "      border-right-color: var(--fill-color);\n",
              "      border-bottom-color: var(--fill-color);\n",
              "    }\n",
              "    90% {\n",
              "      border-color: transparent;\n",
              "      border-bottom-color: var(--fill-color);\n",
              "    }\n",
              "  }\n",
              "</style>\n",
              "\n",
              "      <script>\n",
              "        async function quickchart(key) {\n",
              "          const quickchartButtonEl =\n",
              "            document.querySelector('#' + key + ' button');\n",
              "          quickchartButtonEl.disabled = true;  // To prevent multiple clicks.\n",
              "          quickchartButtonEl.classList.add('colab-df-spinner');\n",
              "          try {\n",
              "            const charts = await google.colab.kernel.invokeFunction(\n",
              "                'suggestCharts', [key], {});\n",
              "          } catch (error) {\n",
              "            console.error('Error during call to suggestCharts:', error);\n",
              "          }\n",
              "          quickchartButtonEl.classList.remove('colab-df-spinner');\n",
              "          quickchartButtonEl.classList.add('colab-df-quickchart-complete');\n",
              "        }\n",
              "        (() => {\n",
              "          let quickchartButtonEl =\n",
              "            document.querySelector('#df-ff4c9489-4f51-41bd-8aaf-a84a428dfa4f button');\n",
              "          quickchartButtonEl.style.display =\n",
              "            google.colab.kernel.accessAllowed ? 'block' : 'none';\n",
              "        })();\n",
              "      </script>\n",
              "    </div>\n",
              "    </div>\n",
              "  </div>\n"
            ],
            "application/vnd.google.colaboratory.intrinsic+json": {
              "type": "dataframe",
              "variable_name": "dataset"
            }
          },
          "metadata": {},
          "execution_count": 1
        }
      ]
    },
    {
      "cell_type": "markdown",
      "source": [
        "**Obrada nepoznatih vrednosti (NaN)**\n",
        "---\n",
        "Nakon inicijalnog pregleda podataka, primećujemo da neke kolone sadrže nepoznate vrednosti (Borough, Contributing Factor, Vehicle Type, Street Name...). To možemo, izmedju ostalog, zaključiti u razlici broja kolona izmedju ID-a nezgode i prethodno navedenih kolona."
      ],
      "metadata": {
        "id": "i7ZbhRGLFwQk"
      }
    },
    {
      "cell_type": "code",
      "source": [
        "dataset.isna().sum()"
      ],
      "metadata": {
        "colab": {
          "base_uri": "https://localhost:8080/",
          "height": 0
        },
        "id": "gRl0Ixw6FiuV",
        "outputId": "fcda7cad-e03c-4177-c6b7-671cdd88798a"
      },
      "execution_count": 2,
      "outputs": [
        {
          "output_type": "execute_result",
          "data": {
            "text/plain": [
              "Collision ID                0\n",
              "Date                        0\n",
              "Time                        0\n",
              "Borough                  7197\n",
              "Street Name               363\n",
              "Cross Street           127130\n",
              "Latitude                22323\n",
              "Longitude               22323\n",
              "Contributing Factor      1287\n",
              "Vehicle Type                0\n",
              "Persons Injured             1\n",
              "Persons Killed              0\n",
              "Pedestrians Injured         0\n",
              "Pedestrians Killed          0\n",
              "Cyclists Injured            0\n",
              "Cyclists Killed             0\n",
              "Motorists Injured           0\n",
              "Motorists Killed            0\n",
              "dtype: int64"
            ],
            "text/html": [
              "<div>\n",
              "<style scoped>\n",
              "    .dataframe tbody tr th:only-of-type {\n",
              "        vertical-align: middle;\n",
              "    }\n",
              "\n",
              "    .dataframe tbody tr th {\n",
              "        vertical-align: top;\n",
              "    }\n",
              "\n",
              "    .dataframe thead th {\n",
              "        text-align: right;\n",
              "    }\n",
              "</style>\n",
              "<table border=\"1\" class=\"dataframe\">\n",
              "  <thead>\n",
              "    <tr style=\"text-align: right;\">\n",
              "      <th></th>\n",
              "      <th>0</th>\n",
              "    </tr>\n",
              "  </thead>\n",
              "  <tbody>\n",
              "    <tr>\n",
              "      <th>Collision ID</th>\n",
              "      <td>0</td>\n",
              "    </tr>\n",
              "    <tr>\n",
              "      <th>Date</th>\n",
              "      <td>0</td>\n",
              "    </tr>\n",
              "    <tr>\n",
              "      <th>Time</th>\n",
              "      <td>0</td>\n",
              "    </tr>\n",
              "    <tr>\n",
              "      <th>Borough</th>\n",
              "      <td>7197</td>\n",
              "    </tr>\n",
              "    <tr>\n",
              "      <th>Street Name</th>\n",
              "      <td>363</td>\n",
              "    </tr>\n",
              "    <tr>\n",
              "      <th>Cross Street</th>\n",
              "      <td>127130</td>\n",
              "    </tr>\n",
              "    <tr>\n",
              "      <th>Latitude</th>\n",
              "      <td>22323</td>\n",
              "    </tr>\n",
              "    <tr>\n",
              "      <th>Longitude</th>\n",
              "      <td>22323</td>\n",
              "    </tr>\n",
              "    <tr>\n",
              "      <th>Contributing Factor</th>\n",
              "      <td>1287</td>\n",
              "    </tr>\n",
              "    <tr>\n",
              "      <th>Vehicle Type</th>\n",
              "      <td>0</td>\n",
              "    </tr>\n",
              "    <tr>\n",
              "      <th>Persons Injured</th>\n",
              "      <td>1</td>\n",
              "    </tr>\n",
              "    <tr>\n",
              "      <th>Persons Killed</th>\n",
              "      <td>0</td>\n",
              "    </tr>\n",
              "    <tr>\n",
              "      <th>Pedestrians Injured</th>\n",
              "      <td>0</td>\n",
              "    </tr>\n",
              "    <tr>\n",
              "      <th>Pedestrians Killed</th>\n",
              "      <td>0</td>\n",
              "    </tr>\n",
              "    <tr>\n",
              "      <th>Cyclists Injured</th>\n",
              "      <td>0</td>\n",
              "    </tr>\n",
              "    <tr>\n",
              "      <th>Cyclists Killed</th>\n",
              "      <td>0</td>\n",
              "    </tr>\n",
              "    <tr>\n",
              "      <th>Motorists Injured</th>\n",
              "      <td>0</td>\n",
              "    </tr>\n",
              "    <tr>\n",
              "      <th>Motorists Killed</th>\n",
              "      <td>0</td>\n",
              "    </tr>\n",
              "  </tbody>\n",
              "</table>\n",
              "</div><br><label><b>dtype:</b> int64</label>"
            ]
          },
          "metadata": {},
          "execution_count": 2
        }
      ]
    },
    {
      "cell_type": "code",
      "source": [
        "dataset[\"Borough\"] = dataset[\"Borough\"].fillna(\"Unspecified\")\n",
        "dataset[\"Contributing Factor\"] = dataset[\"Contributing Factor\"].fillna(\"Unspecified\")\n",
        "dataset[\"Vehicle Type\"] = dataset[\"Vehicle Type\"].fillna(\"Unspecified\")\n",
        "dataset[\"Street Name\"] = dataset[\"Street Name\"].fillna(\"Unspecified\")"
      ],
      "metadata": {
        "id": "4u0SK2LlGnv3"
      },
      "execution_count": 3,
      "outputs": []
    },
    {
      "cell_type": "markdown",
      "source": [
        "Kolone kao što su Cross Street, Longitude, Latitude ćemo obrisati jer neće biti analizirane. Takodje, kolona Persons Injured ima jednu NaN vrednost koju ćemo ukloniti, jer statistički nije relevantna."
      ],
      "metadata": {
        "id": "0cX1kkh4Ha4e"
      }
    },
    {
      "cell_type": "code",
      "source": [
        "dataset = dataset[dataset[\"Persons Injured\"].notna()]\n",
        "\n",
        "dataset = dataset.drop(columns=[\"Latitude\", \"Longitude\", \"Cross Street\"])"
      ],
      "metadata": {
        "id": "Lm0-my49H3lo"
      },
      "execution_count": 4,
      "outputs": []
    },
    {
      "cell_type": "code",
      "source": [
        "dataset.isna().sum()"
      ],
      "metadata": {
        "colab": {
          "base_uri": "https://localhost:8080/",
          "height": 0
        },
        "id": "mUjeurICIK1T",
        "outputId": "f1eff902-edf7-4aa7-b163-11857d4b6c0f"
      },
      "execution_count": 5,
      "outputs": [
        {
          "output_type": "execute_result",
          "data": {
            "text/plain": [
              "Collision ID           0\n",
              "Date                   0\n",
              "Time                   0\n",
              "Borough                0\n",
              "Street Name            0\n",
              "Contributing Factor    0\n",
              "Vehicle Type           0\n",
              "Persons Injured        0\n",
              "Persons Killed         0\n",
              "Pedestrians Injured    0\n",
              "Pedestrians Killed     0\n",
              "Cyclists Injured       0\n",
              "Cyclists Killed        0\n",
              "Motorists Injured      0\n",
              "Motorists Killed       0\n",
              "dtype: int64"
            ],
            "text/html": [
              "<div>\n",
              "<style scoped>\n",
              "    .dataframe tbody tr th:only-of-type {\n",
              "        vertical-align: middle;\n",
              "    }\n",
              "\n",
              "    .dataframe tbody tr th {\n",
              "        vertical-align: top;\n",
              "    }\n",
              "\n",
              "    .dataframe thead th {\n",
              "        text-align: right;\n",
              "    }\n",
              "</style>\n",
              "<table border=\"1\" class=\"dataframe\">\n",
              "  <thead>\n",
              "    <tr style=\"text-align: right;\">\n",
              "      <th></th>\n",
              "      <th>0</th>\n",
              "    </tr>\n",
              "  </thead>\n",
              "  <tbody>\n",
              "    <tr>\n",
              "      <th>Collision ID</th>\n",
              "      <td>0</td>\n",
              "    </tr>\n",
              "    <tr>\n",
              "      <th>Date</th>\n",
              "      <td>0</td>\n",
              "    </tr>\n",
              "    <tr>\n",
              "      <th>Time</th>\n",
              "      <td>0</td>\n",
              "    </tr>\n",
              "    <tr>\n",
              "      <th>Borough</th>\n",
              "      <td>0</td>\n",
              "    </tr>\n",
              "    <tr>\n",
              "      <th>Street Name</th>\n",
              "      <td>0</td>\n",
              "    </tr>\n",
              "    <tr>\n",
              "      <th>Contributing Factor</th>\n",
              "      <td>0</td>\n",
              "    </tr>\n",
              "    <tr>\n",
              "      <th>Vehicle Type</th>\n",
              "      <td>0</td>\n",
              "    </tr>\n",
              "    <tr>\n",
              "      <th>Persons Injured</th>\n",
              "      <td>0</td>\n",
              "    </tr>\n",
              "    <tr>\n",
              "      <th>Persons Killed</th>\n",
              "      <td>0</td>\n",
              "    </tr>\n",
              "    <tr>\n",
              "      <th>Pedestrians Injured</th>\n",
              "      <td>0</td>\n",
              "    </tr>\n",
              "    <tr>\n",
              "      <th>Pedestrians Killed</th>\n",
              "      <td>0</td>\n",
              "    </tr>\n",
              "    <tr>\n",
              "      <th>Cyclists Injured</th>\n",
              "      <td>0</td>\n",
              "    </tr>\n",
              "    <tr>\n",
              "      <th>Cyclists Killed</th>\n",
              "      <td>0</td>\n",
              "    </tr>\n",
              "    <tr>\n",
              "      <th>Motorists Injured</th>\n",
              "      <td>0</td>\n",
              "    </tr>\n",
              "    <tr>\n",
              "      <th>Motorists Killed</th>\n",
              "      <td>0</td>\n",
              "    </tr>\n",
              "  </tbody>\n",
              "</table>\n",
              "</div><br><label><b>dtype:</b> int64</label>"
            ]
          },
          "metadata": {},
          "execution_count": 5
        }
      ]
    },
    {
      "cell_type": "markdown",
      "source": [
        "**Konverzija datuma i vremena**\n",
        "---\n",
        "Za analizu podatak koji su povezani sa vremenskim intervalima, datum i vreme moraju da budu konvertovani u odgovarajuće formate.\n"
      ],
      "metadata": {
        "id": "aP-4Ql71IL8j"
      }
    },
    {
      "cell_type": "code",
      "source": [
        "dataset[\"Datetime\"] = pd.to_datetime(dataset[\"Date\"] + \" \" + dataset[\"Time\"])\n",
        "\n",
        "dataset[\"Hour\"] = dataset[\"Datetime\"].dt.hour\n",
        "dataset[\"Weekday\"] = dataset[\"Datetime\"].dt.weekday\n",
        "dataset[\"Month\"] = dataset[\"Datetime\"].dt.month"
      ],
      "metadata": {
        "id": "SqjKSGtpIkOw"
      },
      "execution_count": 6,
      "outputs": []
    },
    {
      "cell_type": "markdown",
      "source": [
        "**Kreiranje novih kolona**\n",
        "---\n",
        "\n",
        "U daljoj analizi su nam potrebne dodatne kolone kao što je kolona koja će nam odrediti težinu saobraćajne nezgode."
      ],
      "metadata": {
        "id": "NX73UyT2JjSa"
      }
    },
    {
      "cell_type": "code",
      "source": [
        "dataset[\"Accident Severity\"] = (dataset[\"Persons Injured\"] + dataset[\"Persons Killed\"] * 10)"
      ],
      "metadata": {
        "id": "T0aT5cfuKUUh"
      },
      "execution_count": 7,
      "outputs": []
    },
    {
      "cell_type": "markdown",
      "source": [
        "# **Osnovne statističke analize**\n",
        "---\n",
        "U ovom poglavlju su analizirane osnovne statističke karakteristike podataka vezanih za povredjene u saobraćajnim nezgodama, kao i kolona *Accident Severity* koja ukazuje na težinu same nezgode."
      ],
      "metadata": {
        "id": "wbSl6FT7MPxm"
      }
    },
    {
      "cell_type": "markdown",
      "source": [
        "**Analiza raspodele i gustine verovatnoće**\n",
        "---\n",
        "\n",
        "Raspodela broja povredjenih osoba i težine nezgode prikazani su histogramima, na kojima se vidi učestanost pojedinih vrednosti u uzorku.\n"
      ],
      "metadata": {
        "id": "rOkj8UIDNQvo"
      }
    },
    {
      "cell_type": "code",
      "source": [
        "import matplotlib.pyplot as plt\n",
        "\n",
        "plt.figure(figsize=(17, 3))\n",
        "\n",
        "plt.subplot(1, 2, 1)\n",
        "plt.hist(dataset[\"Persons Injured\"], bins = 20, color = \"blue\", edgecolor = \"black\")\n",
        "plt.title(\"Raspodela broja povredjenih\")\n",
        "plt.xlabel(\"Broj povredjenih\")\n",
        "plt.xlim(0, 30)\n",
        "plt.ylabel(\"Učestanost\")\n",
        "\n",
        "\n",
        "plt.subplot(1, 2, 2)\n",
        "plt.hist(dataset[\"Accident Severity\"], bins = 20, color = \"red\", edgecolor = \"black\")\n",
        "plt.title(\"Raspodela težine nezgode\")\n",
        "plt.xlabel(\"Težina nezgode\")\n",
        "plt.xlim(0, 30)\n",
        "plt.ylabel(\"Učestanost\")\n",
        "\n",
        "plt.show()"
      ],
      "metadata": {
        "colab": {
          "base_uri": "https://localhost:8080/",
          "height": 331
        },
        "id": "IAocjtUgNyF4",
        "outputId": "02968bd6-64d4-41d1-9710-48eb3e236fe5"
      },
      "execution_count": 8,
      "outputs": [
        {
          "output_type": "display_data",
          "data": {
            "text/plain": [
              "<Figure size 1700x300 with 2 Axes>"
            ],
            "image/png": "[encoded data removed]"
          },
          "metadata": {}
        }
      ]
    },
    {
      "cell_type": "code",
      "source": [
        "import numpy as np\n",
        "from scipy.stats import poisson\n",
        "\n",
        "persons_injured = dataset[\"Persons Injured\"]\n",
        "accident_severity = dataset[\"Accident Severity\"]\n",
        "\n",
        "lambda_persons_injured = persons_injured.mean()\n",
        "\n",
        "lambda_accident_severity = accident_severity.mean()\n",
        "\n",
        "x_persons_injured = np.arange(0, persons_injured.max() + 1)\n",
        "x_accident_severity = np.arange(0, accident_severity.max() + 1)\n",
        "\n",
        "poisson_persons_injured = poisson.pmf(x_persons_injured, mu = lambda_persons_injured)\n",
        "poisson_accident_severity = poisson.pmf(x_accident_severity, mu = lambda_accident_severity)\n",
        "\n",
        "\n",
        "plt.figure(figsize=(17, 3))\n",
        "\n",
        "plt.subplot(1, 2, 1)\n",
        "plt.hist(persons_injured, bins= range(0, int(persons_injured.max()) + 2), density = True, color = \"blue\", edgecolor = \"black\")\n",
        "plt.plot(x_persons_injured, poisson_persons_injured, label=f\"Poasonova raspodela (lambda = {lambda_persons_injured:.2f})\", color = \"black\")\n",
        "plt.xlabel(\"Broj povredjenih\")\n",
        "plt.xlim(0, 20)\n",
        "plt.xticks(np.arange(0, 21, 1))\n",
        "plt.ylabel(\"Verovatnoća\")\n",
        "plt.title(\"Poredjenje histograma i Poasonove raspodele\")\n",
        "plt.legend()\n",
        "\n",
        "plt.subplot(1, 2, 2)\n",
        "plt.hist(accident_severity, bins= 40, density = True, color = \"red\", edgecolor = \"black\")\n",
        "plt.plot(x_accident_severity, poisson_accident_severity, label=f\"Poasonova raspodela (lambda = {lambda_accident_severity:.2f})\", color = \"black\")\n",
        "plt.xlabel(\"Težina nezgode\")\n",
        "plt.xlim(0, 20)\n",
        "plt.xticks(np.arange(0, 21, 1))\n",
        "plt.ylabel(\"Verovatnoća\")\n",
        "plt.title(\"Poredjenje histograma i Poasonove raspodele\")\n",
        "plt.legend()\n",
        "\n",
        "plt.show()\n"
      ],
      "metadata": {
        "colab": {
          "base_uri": "https://localhost:8080/",
          "height": 334
        },
        "id": "MGRp7g6-YjUO",
        "outputId": "3b8a78fe-1fc5-4492-b194-49a9da594aab"
      },
      "execution_count": 9,
      "outputs": [
        {
          "output_type": "display_data",
          "data": {
            "text/plain": [
              "<Figure size 1700x300 with 2 Axes>"
            ],
            "image/png": "[encoded data removed]"
          },
          "metadata": {}
        }
      ]
    },
    {
      "cell_type": "markdown",
      "source": [
        "**Osnovne statističke mere**\n",
        "---"
      ],
      "metadata": {
        "id": "v9wtVCEzqZMT"
      }
    },
    {
      "cell_type": "code",
      "source": [
        "def stats(data):\n",
        "  stats = {\n",
        "      \"Srednja vrednost: \" : data.mean(),\n",
        "      \"Medijana: \" : data.median(),\n",
        "      \"Donji kvartil (Q1): \" : data.quantile(0.25),\n",
        "      \"Gornji kvartil (Q3): \" : data.quantile(0.75),\n",
        "      \"Minimum: \" : data.min(),\n",
        "      \"Maksimum: \" : data.max(),\n",
        "      \"Raspon: \" : data.max() - data.min(),\n",
        "      \"Disperzija: \" : data.var(),\n",
        "      \"Standardna devijacija: \" : data.std()\n",
        "  }\n",
        "\n",
        "  return pd.Series(stats)\n",
        "\n",
        "\n",
        "stats_injured = stats(dataset[\"Persons Injured\"])\n",
        "stats_severity = stats(dataset[\"Accident Severity\"])\n",
        "\n",
        "stats_data = pd.concat([stats_injured, stats_severity], axis = 1)\n",
        "stats_data.columns = [\"Broj povredjenih\", \"Težina nezgode\"]\n",
        "\n",
        "stats_data = stats_data.round(2)\n",
        "\n",
        "print(stats_data)"
      ],
      "metadata": {
        "colab": {
          "base_uri": "https://localhost:8080/"
        },
        "id": "AKJ8Pk_0q8Rz",
        "outputId": "04ab8455-2451-453e-e228-61292f7012f4"
      },
      "execution_count": 10,
      "outputs": [
        {
          "output_type": "stream",
          "name": "stdout",
          "text": [
            "                         Broj povredjenih  Težina nezgode\n",
            "Srednja vrednost:                    0.49            0.51\n",
            "Medijana:                            0.00            0.00\n",
            "Donji kvartil (Q1):                  0.00            0.00\n",
            "Gornji kvartil (Q3):                 1.00            1.00\n",
            "Minimum:                             0.00            0.00\n",
            "Maksimum:                           40.00           40.00\n",
            "Raspon:                             40.00           40.00\n",
            "Disperzija:                          0.65            0.94\n",
            "Standardna devijacija:               0.81            0.97\n"
          ]
        }
      ]
    },
    {
      "cell_type": "markdown",
      "source": [
        "Iz ovih podataka dolazimo do sledećih zaključaka:\n",
        "\n",
        "1.   Većina nezgoda nema teške ishode. Medijana kao i donji kvartil Q1 su nula za obe promenljive, što znači da je više od 50% slučajeva broj povredjenih i ukupna težina nezgode jednaka nuli.\n",
        "2.   Maksimum je 40 za obe promenljive, što znači da postoje ekstremni slučajevi koji snažno odudaraju od većine. Raspon je velik u oba slučaja, što ukazuje na retkih ali veoma teških nezgoda.\n"
      ],
      "metadata": {
        "id": "trS64UVhxY_O"
      }
    },
    {
      "cell_type": "code",
      "source": [
        "plt.figure(figsize=(15, 5))\n",
        "\n",
        "plt.subplot(1, 2, 1)\n",
        "plt.boxplot(dataset[\"Persons Injured\"])\n",
        "plt.title(\"Box plot - Povredjeni\")\n",
        "\n",
        "plt.subplot(1, 2, 2)\n",
        "plt.boxplot(dataset[\"Accident Severity\"])\n",
        "plt.title(\"Boxplot - Težina nezgode\")\n",
        "\n",
        "plt.show()"
      ],
      "metadata": {
        "colab": {
          "base_uri": "https://localhost:8080/",
          "height": 468
        },
        "id": "R85fl48MTwsC",
        "outputId": "ec70ff98-4c88-47e4-c31f-86b296876270"
      },
      "execution_count": 11,
      "outputs": [
        {
          "output_type": "display_data",
          "data": {
            "text/plain": [
              "<Figure size 1500x500 with 2 Axes>"
            ],
            "image/png": "[encoded data removed]"
          },
          "metadata": {}
        }
      ]
    },
    {
      "cell_type": "code",
      "source": [
        "p_injured = (dataset[\"Persons Injured\"] >= 1).mean()\n",
        "p_killed = (dataset[\"Persons Killed\"] >= 1).mean()\n",
        "\n",
        "print(f\"Verovatnoća da je >= 1 povredjen po nezgodi: {p_injured:.4f}\")\n",
        "print(f\"Verovatnoća da je >= 1 stradao po nezgodi: {p_killed:.4f}\")"
      ],
      "metadata": {
        "colab": {
          "base_uri": "https://localhost:8080/"
        },
        "id": "V7_C_Frqc1B6",
        "outputId": "a17b392d-125b-41e4-b26a-2f9a705a5526"
      },
      "execution_count": 12,
      "outputs": [
        {
          "output_type": "stream",
          "name": "stdout",
          "text": [
            "Verovatnoća da je >= 1 povredjen po nezgodi: 0.3653\n",
            "Verovatnoća da je >= 1 stradao po nezgodi: 0.0026\n"
          ]
        }
      ]
    },
    {
      "cell_type": "markdown",
      "source": [
        "Verovatnoća da je bar jedna osoba povredjena u nezgodi je približno 37%. To znači da je u oko trećini svih nezgoda ima najmanje jedna povredjena osoba.\n",
        "\n",
        "Verovanoća da u nezgodi strada bar jedna osoba je oko 3%, što ukazuje da su smrtni slučajevi značajno redji."
      ],
      "metadata": {
        "id": "1yms3385dYrh"
      }
    },
    {
      "cell_type": "markdown",
      "source": [
        "**Procena verovatnoća i modeliranje slučajnih dogadjaja**\n",
        "---\n",
        "\n",
        "Jedan od osnovnih zadataka u analizi saobraćajnih nezgoda jeste procena kolika je verovatnoća da dodje do povredjivanja ili smrtnog ishoda u pojedinačnoj nezgodi.\n"
      ],
      "metadata": {
        "id": "so8u6dYeeuIs"
      }
    },
    {
      "cell_type": "markdown",
      "source": [
        "Verovatnoća da nezgoda dovede do ≥ 1 povredjene osobe ili do ≥ 1 smrtnog ishoda računaćemo po definiciji.\n",
        "\n",
        "P(X ≥ 1) = 1 - Nx=0 / N\n",
        "\n",
        "Gde je Nx=0 broj nezgoda u kojima nije došlo do povrede ili smrtnih ishoda, a N ukupan broj nezgoda"
      ],
      "metadata": {
        "id": "whLX9lSLhdZe"
      }
    },
    {
      "cell_type": "code",
      "source": [
        "all_accidents = dataset.shape[0]\n",
        "without_injuries = dataset[dataset[\"Persons Injured\"] == 0].shape[0]\n",
        "p_injuries = 1 - without_injuries / all_accidents\n",
        "\n",
        "print(p_injuries)"
      ],
      "metadata": {
        "colab": {
          "base_uri": "https://localhost:8080/"
        },
        "id": "32AVbur6fI7Q",
        "outputId": "9bcf2e7c-8216-40a4-d42e-28d937315aaf"
      },
      "execution_count": 13,
      "outputs": [
        {
          "output_type": "stream",
          "name": "stdout",
          "text": [
            "0.36533008975757064\n"
          ]
        }
      ]
    },
    {
      "cell_type": "code",
      "source": [
        "all_accidents = dataset.shape[0]\n",
        "without_casualties = dataset[dataset[\"Persons Killed\"] == 0].shape[0]\n",
        "p_casualties = 1 - without_casualties / all_accidents\n",
        "\n",
        "print(p_casualties)"
      ],
      "metadata": {
        "colab": {
          "base_uri": "https://localhost:8080/"
        },
        "id": "kK87KUQJgt5H",
        "outputId": "1fa27e79-aa74-4fad-e7b1-4ef6c89eb327"
      },
      "execution_count": 14,
      "outputs": [
        {
          "output_type": "stream",
          "name": "stdout",
          "text": [
            "0.0025710930291082956\n"
          ]
        }
      ]
    },
    {
      "cell_type": "markdown",
      "source": [
        "S obzirom na to da se povrede dešavaju relativno često, oko 37% podataka, modelirane su koristeći binomnu raspodelu. Binomna raspodela broji uspehe u n ponavljanja nezavisnih eksperimenata, pri čemu svaki eksperiment ima dva ishoda (uspeh ili neuspeh). Postavićemo fiktivan fiksan broj osoba u automobilu (npr. 3). Svako lice ima jednaku i nezavisnu verovatnoću p da bude povredjeno."
      ],
      "metadata": {
        "id": "8EaWP4L-jtUt"
      }
    },
    {
      "cell_type": "code",
      "source": [
        "mean_injured = dataset[\"Persons Injured\"].mean()\n",
        "n = 3\n",
        "p = mean_injured / n\n"
      ],
      "metadata": {
        "id": "cuA2iKiGl4KS"
      },
      "execution_count": 15,
      "outputs": []
    },
    {
      "cell_type": "code",
      "source": [
        "from scipy.stats import binom\n",
        "\n",
        "persons_injured = dataset[\"Persons Injured\"]\n",
        "p_data_injured = persons_injured.value_counts(normalize = True).sort_index()\n",
        "\n",
        "n = 3\n",
        "p = persons_injured.mean() / n\n",
        "x = np.arange(0, n+1)\n",
        "binom_p = binom.pmf(x, n, p)\n",
        "\n",
        "plt.figure(figsize=(10, 5))\n",
        "plt.bar(p_data_injured.index, p_data_injured.values, label = \"Raspodela podataka\", color = \"blue\")\n",
        "plt.plot(x, binom_p, \"o-\", color = \"red\", label = f\"Binomna raspodela (n = {n}, p = {p:.2f})\")\n",
        "plt.xlabel(\"Broj povredjenih po nezgodi\")\n",
        "plt.ylabel(\"Verovatnoća\")\n",
        "plt.title(\"Poredjenje realne i binomne raspodele\")\n",
        "plt.legend()\n",
        "plt.show()"
      ],
      "metadata": {
        "colab": {
          "base_uri": "https://localhost:8080/",
          "height": 487
        },
        "id": "veO2bpCbmGi6",
        "outputId": "916f6737-ac5b-49e8-a77e-66c832a606e6"
      },
      "execution_count": 16,
      "outputs": [
        {
          "output_type": "display_data",
          "data": {
            "text/plain": [
              "<Figure size 1000x500 with 1 Axes>"
            ],
            "image/png": "[encoded data removed]"
          },
          "metadata": {}
        }
      ]
    }
  ]
}